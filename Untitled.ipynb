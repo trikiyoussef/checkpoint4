{
 "cells": [
  {
   "cell_type": "code",
   "execution_count": 18,
   "metadata": {},
   "outputs": [
    {
     "name": "stdout",
     "output_type": "stream",
     "text": [
      "Original array: array('i', [1, 3, 5, 3, 7, 1, 9, 3])\n",
      "Convert the said array to an ordinary list with the same items:\n",
      "[1, 3, 5, 3, 7, 1, 9, 3]\n"
     ]
    }
   ],
   "source": [
    "from array import *\n",
    "array_num = array('i', [1, 3, 5, 3, 7, 1, 9, 3])\n",
    "print(\"Original array: \"+str(array_num))\n",
    "num_list = array_num.tolist()\n",
    "print(\"Convert the said array to an ordinary list with the same items:\")\n",
    "print(num_list)"
   ]
  },
  {
   "cell_type": "code",
   "execution_count": 16,
   "metadata": {},
   "outputs": [
    {
     "name": "stdout",
     "output_type": "stream",
     "text": [
      "[[0 1 2]\n",
      " [3 4 5]\n",
      " [6 7 8]]\n",
      "12\n"
     ]
    }
   ],
   "source": [
    "import numpy as np \n",
    "a=np.array([[0,1,2],[3,4,5],[6,7,8]])\n",
    "print (a)\n",
    "b=(a[0,0])+(a[1,1])+(a[2,2])\n",
    "print(b)"
   ]
  },
  {
   "cell_type": "code",
   "execution_count": 7,
   "metadata": {},
   "outputs": [
    {
     "name": "stdout",
     "output_type": "stream",
     "text": [
      "[[0 1 2]\n",
      " [3 4 5]\n",
      " [6 7 8]]\n",
      "3 8 11\n"
     ]
    }
   ],
   "source": [
    "import numpy as np \n",
    "a=np.array([[0,1,2],[3,4,5],[6,7,8]])\n",
    "print(a)\n",
    "s=0\n",
    "for x in  (a[0,:]):\n",
    "    s=s+x\n",
    "for i in  (a[1,:]):\n",
    "    d=s+i\n",
    "for o in  (a[2,:]):\n",
    "    f=s+o\n",
    "print (s,d,f)"
   ]
  }
 ],
 "metadata": {
  "kernelspec": {
   "display_name": "Python 3",
   "language": "python",
   "name": "python3"
  },
  "language_info": {
   "codemirror_mode": {
    "name": "ipython",
    "version": 3
   },
   "file_extension": ".py",
   "mimetype": "text/x-python",
   "name": "python",
   "nbconvert_exporter": "python",
   "pygments_lexer": "ipython3",
   "version": "3.8.3"
  }
 },
 "nbformat": 4,
 "nbformat_minor": 4
}
